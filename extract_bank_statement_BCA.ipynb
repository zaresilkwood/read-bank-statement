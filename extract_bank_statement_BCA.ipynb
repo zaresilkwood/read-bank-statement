{
 "cells": [
  {
   "cell_type": "code",
   "execution_count": null,
   "metadata": {},
   "outputs": [],
   "source": [
    "#fill the location and saved file\n",
    "location = 'C:/put/the/location/here/file.pdf'\n",
    "saveas = 'rekeningBCA.xlsx'"
   ]
  },
  {
   "cell_type": "code",
   "execution_count": null,
   "metadata": {},
   "outputs": [],
   "source": [
    "#import library\n",
    "import pdfplumber\n",
    "import pandas as pd\n",
    "pdf = pdfplumber.open()"
   ]
  },
  {
   "cell_type": "code",
   "execution_count": null,
   "metadata": {},
   "outputs": [],
   "source": [
    "data = []\n",
    "for page in pdf.pages:\n",
    "    text = page.extract_text()\n",
    "    #for newer BCA statement, change the line\n",
    "    for line in text.split(\"\\n\")[16:]: \n",
    "        # print(line)\n",
    "        data.append(line)"
   ]
  },
  {
   "cell_type": "code",
   "execution_count": null,
   "metadata": {},
   "outputs": [],
   "source": [
    "#change to dataframe\n",
    "rekening = pd.DataFrame(data, columns=['text'])"
   ]
  },
  {
   "cell_type": "code",
   "execution_count": null,
   "metadata": {},
   "outputs": [],
   "source": [
    "#remove unused row\n",
    "rekening = rekening[~(rekening['text'].str.contains('SALDO AWAL|MUTASI CR|MUTASI DB|SALDO AKHIR', regex=True))]"
   ]
  },
  {
   "cell_type": "code",
   "execution_count": 60,
   "metadata": {},
   "outputs": [],
   "source": [
    "#ekstrak tanggal\n",
    "rekening['tanggal'] = rekening['text'].str.extract(r'^(\\d{2}/\\d{2})\\s')\n",
    "\n",
    "#Gabung all text\n",
    "rekening = rekening.groupby((~rekening[\"tanggal\"].isna()).cumsum()).agg({\"tanggal\":\"first\",\"text\":\" \".join})\n",
    "rekening = rekening.rename(columns={'tanggal':'tgl'}).reset_index().drop('tanggal', axis=1)\n",
    "\n",
    "#Ekstrak nilai dari text\n",
    "rekening['nilai'] = rekening['text'].str.findall(r'(\\d{1,3}(?:,\\d{3})*(?:\\.\\d{2}))')\n",
    "# rekening['nilai'] = rekening['text'].str.findall(r'(\\d{1,3}(?:\\.\\d{3})*,\\d{2})')\n",
    "\n",
    "#buat kolom untuk transaksi, debit, dan saldo\n",
    "rekening['transaksi'] = rekening['nilai'].str[0]\n",
    "rekening['debet'] = rekening['text'].str.extract(r'\\s(DB)\\s')\n",
    "rekening['saldo'] = rekening['nilai'].str[-1]\n"
   ]
  },
  {
   "cell_type": "code",
   "execution_count": null,
   "metadata": {},
   "outputs": [],
   "source": [
    "#Buat rekening keterangan\n",
    "rekening['keterangan'] = rekening['text']\n",
    "rekening['keterangan'] = rekening.apply(lambda row: row['keterangan'].replace(row['tgl'], '').strip(), axis=1, )\n",
    "rekening['keterangan'] = rekening.apply(lambda row: row['keterangan'].replace(row['transaksi'], '').strip() if type(row['transaksi']) == str else row['keterangan'], axis=1, )\n",
    "rekening['keterangan'] = rekening.apply(lambda row: row['keterangan'].replace(row['saldo'], '').strip() if type(row['saldo']) == str else row['keterangan'], axis=1)\n",
    "\n",
    "#clean unused columns\n",
    "rekening_bersih = rekening.drop(['text', 'nilai'], axis=1)\n",
    "\n",
    "#perbaiki kolom saldo\n",
    "rekening_bersih.loc[rekening_bersih['saldo'] == rekening_bersih['transaksi'], 'saldo'] = 0\n",
    "\n",
    "#ubah ke float\n",
    "rekening_bersih['transaksi'] = rekening_bersih['transaksi'].replace(',', '', regex=True).astype('float')\n",
    "rekening_bersih['saldo'] = rekening_bersih['saldo'].replace(',', '', regex=True).astype('float')"
   ]
  },
  {
   "cell_type": "code",
   "execution_count": null,
   "metadata": {},
   "outputs": [],
   "source": [
    "rekening_bersih.to_excel(saveas)"
   ]
  }
 ],
 "metadata": {
  "kernelspec": {
   "display_name": "Python 3",
   "language": "python",
   "name": "python3"
  },
  "language_info": {
   "codemirror_mode": {
    "name": "ipython",
    "version": 3
   },
   "file_extension": ".py",
   "mimetype": "text/x-python",
   "name": "python",
   "nbconvert_exporter": "python",
   "pygments_lexer": "ipython3",
   "version": "3.10.6"
  }
 },
 "nbformat": 4,
 "nbformat_minor": 2
}
